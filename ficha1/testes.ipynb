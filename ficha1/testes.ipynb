{
 "cells": [
  {
   "cell_type": "code",
   "execution_count": 2,
   "metadata": {},
   "outputs": [],
   "source": [
    "import cv2\n",
    "import numpy as np\n",
    "import matplotlib.pyplot as plt"
   ]
  },
  {
   "cell_type": "code",
   "execution_count": null,
   "metadata": {},
   "outputs": [
    {
     "name": "stdout",
     "output_type": "stream",
     "text": [
      "[[133 165 184 165]\n",
      " [133 168 168 165]\n",
      " [168 165 132 116]\n",
      " [208 168 116  34]]\n"
     ]
    }
   ],
   "source": [
    "array = np.array([[133,184,248,110],\n",
    "                  [25,38,165,210],\n",
    "                  [209,168,204,21],\n",
    "                  [208,132,116,34]],dtype=np.uint8)\n",
    "\n",
    "# dst = cv2.medianBlur(array,ksize=3)\n",
    "# print(dst)\n",
    "ksize = 3\n",
    "pad_width = ksize // 2\n",
    "padded_array = np.pad(array, pad_width, mode='constant', constant_values=0)\n",
    "\n",
    "# Apply median blur\n",
    "blurred_padded = cv2.medianBlur(padded_array, ksize=ksize)\n",
    "\n",
    "# Crop the padded result back to the original size\n",
    "dst = blurred_padded[pad_width:-pad_width, pad_width:-pad_width]\n",
    "\n",
    "print(dst)"
   ]
  }
 ],
 "metadata": {
  "kernelspec": {
   "display_name": "Python 3",
   "language": "python",
   "name": "python3"
  },
  "language_info": {
   "codemirror_mode": {
    "name": "ipython",
    "version": 3
   },
   "file_extension": ".py",
   "mimetype": "text/x-python",
   "name": "python",
   "nbconvert_exporter": "python",
   "pygments_lexer": "ipython3",
   "version": "3.12.7"
  }
 },
 "nbformat": 4,
 "nbformat_minor": 2
}
