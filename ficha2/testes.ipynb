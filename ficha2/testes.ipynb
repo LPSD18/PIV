{
 "cells": [
  {
   "cell_type": "code",
   "execution_count": 1,
   "metadata": {},
   "outputs": [],
   "source": [
    "import numpy as np\n",
    "import cv2"
   ]
  },
  {
   "cell_type": "code",
   "execution_count": 8,
   "metadata": {},
   "outputs": [
    {
     "name": "stdout",
     "output_type": "stream",
     "text": [
      "[[101 120 140]\n",
      " [105 125 130]\n",
      " [101 135 135]]\n"
     ]
    }
   ],
   "source": [
    "frames = []\n",
    "\n",
    "t = np.array([[100,120,135],\n",
    "              [102,120,130],\n",
    "              [101,130,132]])\n",
    "t1 = np.array([[200,115,140],\n",
    "               [105,125,210],\n",
    "               [95,203,195]])\n",
    "t2 = np.array([[101,120,145],\n",
    "               [105,130,125],\n",
    "               [115,135,135]])\n",
    "frames.append(t)\n",
    "frames.append(t1)\n",
    "frames.append(t2)\n",
    "\n",
    "framesArray = np.stack(frames,axis=0)\n",
    "\n",
    "background = np.median(framesArray,axis=0).astype(np.uint8)\n",
    "\n",
    "print(background)"
   ]
  }
 ],
 "metadata": {
  "kernelspec": {
   "display_name": "Python 3",
   "language": "python",
   "name": "python3"
  },
  "language_info": {
   "codemirror_mode": {
    "name": "ipython",
    "version": 3
   },
   "file_extension": ".py",
   "mimetype": "text/x-python",
   "name": "python",
   "nbconvert_exporter": "python",
   "pygments_lexer": "ipython3",
   "version": "3.12.8"
  }
 },
 "nbformat": 4,
 "nbformat_minor": 2
}
