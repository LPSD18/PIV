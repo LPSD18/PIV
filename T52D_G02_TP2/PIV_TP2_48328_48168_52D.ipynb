{
 "cells": [
  {
   "cell_type": "markdown",
   "metadata": {},
   "source": [
    "<center>\n",
    "<img src=\"https://2223moodle.isel.pt/pluginfile.php/1/theme_adaptable/logo/1631635830/logo-isel_inv3.png\" width=\"250\">\n",
    "<h3>Licenciatura em Engenharia Informática e Multimédia</h3><br>\n",
    "<br>\n",
    "<h2>Processamento de Imagem e Visão (PIV)</h3>\n",
    "<h3>2º Trabalho Laboratorial – Estimação e classificação de movimento </h3>\n",
    "<br>\n",
    "\n",
    "<br>\n",
    "Trabalho Realizado por:<br>\n",
    "Gonçalo Silva <b>A48328</b><br>\n",
    "Diogo Lobo <b>A48168</b><br>\n",
    "Turma 52D<br><br>\n",
    "Docente: João Pedro Costa <br>\n",
    "<br>\n",
    "27 de Novembro 2024\n",
    "</center>\n"
   ]
  },
  {
   "cell_type": "code",
   "execution_count": 1,
   "metadata": {},
   "outputs": [
    {
     "name": "stdout",
     "output_type": "stream",
     "text": [
      "pygame 2.6.1 (SDL 2.28.4, Python 3.12.7)\n",
      "Hello from the pygame community. https://www.pygame.org/contribute.html\n"
     ]
    }
   ],
   "source": [
    "# Imports\n",
    "import cv2\n",
    "import numpy as np\n",
    "import time\n",
    "import pygame\n",
    "from pygame.locals import QUIT\n",
    "from pygame import surfarray"
   ]
  },
  {
   "cell_type": "code",
   "execution_count": 2,
   "metadata": {},
   "outputs": [],
   "source": [
    "#Inicialização dos tamanhos da janela e objetos\n",
    "window_width = 1280\n",
    "window_height = 700\n",
    "cube_size = 50\n",
    "cube_x = window_width // 4 - cube_size\n",
    "cube_y = window_height // 2 - cube_size\n",
    "cube_color = (0, 0, 255)"
   ]
  },
  {
   "cell_type": "code",
   "execution_count": 3,
   "metadata": {},
   "outputs": [],
   "source": [
    "#Inicialização da Camera \n",
    "camera = 0\n",
    "cam = cv2.VideoCapture(camera)\n",
    "\n",
    "running = True\n",
    "\n",
    "\n",
    "pygame.init()\n",
    "\n",
    "window = pygame.display.set_mode((window_width, window_height))\n",
    "pygame.display.set_caption(\"Webcam in Pygame\")\n",
    "\n",
    "running = True\n",
    "\n",
    "if cam.isOpened():\n",
    "    while running:\n",
    "        for event in pygame.event.get():\n",
    "            if event.type == pygame.QUIT:\n",
    "                running = False\n",
    "\n",
    "        flag, Bframe = cam.read()\n",
    "        if flag:\n",
    "            # Converte de BGR (OpenCV) para RGB (Pygame)\n",
    "            Bframe = cv2.cvtColor(Bframe, cv2.COLOR_BGR2RGB)\n",
    "            Bframe = np.rot90(Bframe)  # Pygame espera a imagem transposta\n",
    "            pygame_surface = pygame.surfarray.make_surface(Bframe)\n",
    "            window.blit(pygame_surface, (window_width // 2, window_height // 7))  # Centraliza na tela\n",
    "\n",
    "        pygame.display.update()  # Atualiza a tela\n",
    "\n",
    "    # Libera recursos ao sair\n",
    "    cam.release()\n",
    "    pygame.quit()\n",
    "\n",
    "else:\n",
    "    print(\"Error: Could not open Camera\")\n"
   ]
  },
  {
   "cell_type": "code",
   "execution_count": 4,
   "metadata": {},
   "outputs": [],
   "source": [
    "import cv2\n",
    "import numpy as np\n",
    "import time\n",
    "\n",
    "camera = 0\n",
    "cam = cv2.VideoCapture(camera)\n",
    "\n",
    "thr = 10\n",
    "kernelSize = 9\n",
    "previousFrame = None\n",
    "kernel = cv2.getStructuringElement(cv2.MORPH_ELLIPSE,(kernelSize,kernelSize),(-1,-1))\n",
    "\n",
    "while True:\n",
    "    flag, img = cam.read()\n",
    "    if flag:\n",
    "        imgE = cv2.medianBlur(img,kernelSize)\n",
    "        if previousFrame is None:\n",
    "            previousFrame = img\n",
    "        diff_image = cv2.absdiff(img,previousFrame)\n",
    "        _ ,bw1 = cv2.threshold(diff_image,thr,255,cv2.THRESH_BINARY)\n",
    "        _, bw2 = cv2.threshold(np.uint8(bw1.sum(axis=2)),1,255,cv2.THRESH_BINARY)\n",
    "        erode_image = cv2.erode(bw2,kernel)\n",
    "        dilate_image = cv2.dilate(erode_image,kernel,iterations=2)\n",
    "        (num_labels,label_image,stats,centroids) = cv2.connectedComponentsWithStats(dilate_image)\n",
    "        previousFrame = img.copy()\n",
    "        motionFlag = False\n",
    "        for i in range(1,num_labels):\n",
    "            if(stats[i,4]>0.05*bw2.shape[0]*bw2.shape[1]):\n",
    "                cv2.rectangle(img,(stats[i,0],stats[i,1]),(stats[i,0]+stats[i,2],stats[i,1]+stats[i,3]),(0,0,255),thickness=2)\n",
    "                motionFlag = True\n",
    "        if motionFlag:\n",
    "            cv2.putText(img, 'Motion Detected', (0,30),cv2.FONT_HERSHEY_SIMPLEX,1,(0,0,255))\n",
    "        \n",
    "        cv2.imshow('Video in',img)\n",
    "\n",
    "    key = cv2.waitKey(100)\n",
    "    if key==27:\n",
    "        cv2.destroyAllWindows()\n",
    "        cam.release()\n",
    "        break\n",
    "\n",
    "    "
   ]
  }
 ],
 "metadata": {
  "kernelspec": {
   "display_name": "Python 3",
   "language": "python",
   "name": "python3"
  },
  "language_info": {
   "codemirror_mode": {
    "name": "ipython",
    "version": 3
   },
   "file_extension": ".py",
   "mimetype": "text/x-python",
   "name": "python",
   "nbconvert_exporter": "python",
   "pygments_lexer": "ipython3",
   "version": "3.12.7"
  }
 },
 "nbformat": 4,
 "nbformat_minor": 2
}
