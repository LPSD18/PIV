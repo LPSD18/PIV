{
 "cells": [
  {
   "cell_type": "code",
   "execution_count": 1,
   "metadata": {},
   "outputs": [
    {
     "name": "stderr",
     "output_type": "stream",
     "text": [
      "C:\\Users\\diogo\\AppData\\Local\\Packages\\PythonSoftwareFoundation.Python.3.12_qbz5n2kfra8p0\\LocalCache\\local-packages\\Python312\\site-packages\\tqdm\\auto.py:21: TqdmWarning: IProgress not found. Please update jupyter and ipywidgets. See https://ipywidgets.readthedocs.io/en/stable/user_install.html\n",
      "  from .autonotebook import tqdm as notebook_tqdm\n"
     ]
    },
    {
     "name": "stdout",
     "output_type": "stream",
     "text": [
      "Path to dataset files: C:\\Users\\diogo\\.cache\\kagglehub\\datasets\\ammarnassanalhajali\\pklot-dataset\\versions\\1\n"
     ]
    }
   ],
   "source": [
    "import kagglehub\n",
    "import cv2\n",
    "import numpy as np\n",
    "import matplotlib.pyplot as plt\n",
    "import os\n",
    "# Download latest version\n",
    "path = kagglehub.dataset_download(\"ammarnassanalhajali/pklot-dataset\")\n",
    "pathTrain = path + \"/train/\"\n",
    "pathTest = path + \"/test/\"\n",
    "print(\"Path to dataset files:\", path)"
   ]
  },
  {
   "cell_type": "code",
   "execution_count": 2,
   "metadata": {},
   "outputs": [],
   "source": [
    "trainImagesPath = []\n",
    "trainImages = []\n",
    "testImagesPath = []\n",
    "testImages = []\n",
    "for root,_,files in os.walk(pathTrain):\n",
    "    for file in files:\n",
    "        if file.endswith(\".jpg\"):\n",
    "            trainImagesPath.append(os.path.join(root,file))\n",
    "\n",
    "for image in trainImagesPath:\n",
    "    trainImages.append(cv2.imread(image))\n",
    "\n",
    "for root,_,files in os.walk(pathTest):\n",
    "    for file in files:\n",
    "        if file.endswith(\".jpg\"):\n",
    "            testImagesPath.append(os.path.join(root,file))\n",
    "\n",
    "for image in testImagesPath:\n",
    "    testImages.append(cv2.imread(image))\n",
    "\n",
    "print(len(trainImages))\n",
    "print(len(testImages))"
   ]
  },
  {
   "cell_type": "code",
   "execution_count": 3,
   "metadata": {},
   "outputs": [],
   "source": [
    "cv2.imshow('Image',trainImages[0])\n",
    "cv2.waitKey(0)\n",
    "cv2.destroyAllWindows()\n"
   ]
  },
  {
   "cell_type": "code",
   "execution_count": 4,
   "metadata": {},
   "outputs": [],
   "source": [
    "cv2.imshow('Image',testImages[0])\n",
    "cv2.waitKey(0)\n",
    "cv2.destroyAllWindows()"
   ]
  },
  {
   "cell_type": "code",
   "execution_count": null,
   "metadata": {},
   "outputs": [],
   "source": []
  }
 ],
 "metadata": {
  "kernelspec": {
   "display_name": "Python 3",
   "language": "python",
   "name": "python3"
  },
  "language_info": {
   "codemirror_mode": {
    "name": "ipython",
    "version": 3
   },
   "file_extension": ".py",
   "mimetype": "text/x-python",
   "name": "python",
   "nbconvert_exporter": "python",
   "pygments_lexer": "ipython3",
   "version": "3.12.7"
  }
 },
 "nbformat": 4,
 "nbformat_minor": 2
}
