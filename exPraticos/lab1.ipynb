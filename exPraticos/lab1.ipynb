{
 "cells": [
  {
   "cell_type": "code",
   "execution_count": 1,
   "metadata": {},
   "outputs": [],
   "source": [
    "import cv2\n",
    "import numpy as np\n",
    "import matplotlib.pyplot as plt"
   ]
  },
  {
   "cell_type": "markdown",
   "metadata": {},
   "source": [
    "*1.1*"
   ]
  },
  {
   "cell_type": "code",
   "execution_count": 2,
   "metadata": {},
   "outputs": [],
   "source": [
    "image = cv2.imread('imageDatabase/BrainMRI_Axial.jpg')"
   ]
  },
  {
   "cell_type": "code",
   "execution_count": 3,
   "metadata": {},
   "outputs": [],
   "source": [
    "cv2.imshow('Image',image)\n",
    "cv2.waitKey(0)\n",
    "cv2.destroyAllWindows()\n"
   ]
  },
  {
   "cell_type": "code",
   "execution_count": 4,
   "metadata": {},
   "outputs": [],
   "source": [
    "imgColor = cv2.cvtColor(image, cv2.COLOR_BGRA2GRAY)\n",
    "\n",
    "cv2.imshow ('Image', imgColor)\n",
    "\n",
    "cv2.waitKey(0)\n",
    "cv2.destroyAllWindows()"
   ]
  },
  {
   "cell_type": "markdown",
   "metadata": {},
   "source": [
    "*1.2*"
   ]
  },
  {
   "cell_type": "code",
   "execution_count": 5,
   "metadata": {},
   "outputs": [],
   "source": [
    "# cam = cv2.VideoCapture(0)\n",
    "\n",
    "# while True:\n",
    "#     ret, frame = cam.read()\n",
    "\n",
    "#     cv2.imshow('Camera', frame)\n",
    "\n",
    "#     if (cv2.waitKey(1) == ord('q')) :\n",
    "#         break\n",
    "# cam.release()\n",
    "# cv2.destroyAllWindows()\n"
   ]
  },
  {
   "cell_type": "markdown",
   "metadata": {},
   "source": [
    "*1.3*"
   ]
  },
  {
   "cell_type": "code",
   "execution_count": 6,
   "metadata": {},
   "outputs": [],
   "source": [
    "imgResize = cv2.resize(image,(1000,1000),fx=10,fy=10,interpolation=cv2.INTER_CUBIC)\n",
    "\n",
    "cv2.imshow ('Image', imgResize)\n",
    "\n",
    "cv2.waitKey(0)\n",
    "cv2.destroyAllWindows()"
   ]
  },
  {
   "cell_type": "markdown",
   "metadata": {},
   "source": [
    "*2.0*\n",
    "Exercício 2.1 – Cromakey (blue screening);\n"
   ]
  },
  {
   "cell_type": "code",
   "execution_count": 7,
   "metadata": {},
   "outputs": [],
   "source": [
    "newImage = cv2.imread('imageDatabase/falcon.jpg')\n",
    "mask = cv2.imread('imageDatabase/mask.png')\n",
    "background = cv2.imread('imageDatabase/florest.jpg')\n",
    "imageOut = cv2.multiply(newImage/255,mask/255)\n",
    "backgroundMask = cv2.multiply(background/255,(255-mask)/255)\n",
    "imageFinal = cv2.add(imageOut,backgroundMask)\n",
    "\n",
    "\n",
    "cv2.imshow('Image',imageFinal)\n",
    "cv2.waitKey(0)\n",
    "cv2.destroyAllWindows()"
   ]
  },
  {
   "cell_type": "markdown",
   "metadata": {},
   "source": [
    "Repetir este exercicio sem usar a mask\n",
    "Usar cv2.inRange"
   ]
  },
  {
   "cell_type": "code",
   "execution_count": 18,
   "metadata": {},
   "outputs": [
    {
     "name": "stdout",
     "output_type": "stream",
     "text": [
      "(500, 400, 3)\n",
      "(500, 400)\n"
     ]
    }
   ],
   "source": [
    "Image2 = cv2.imread('imageDatabase/falcon.jpg')\n",
    "mask2 = cv2.inRange(Image2,np.array([81,236,192]),np.array([121,256,212]))\n",
    "print(Image2.shape)\n",
    "print(mask2.shape)\n",
    "mask2 = 255 - mask2\n",
    "mask2 = cv2.cvtColor(mask2,cv2.COLOR_GRAY2RGB)\n",
    "background2 = cv2.imread('imageDatabase/florest.jpg')\n",
    "imageOut2 = cv2.multiply(Image2/255,mask2/255)\n",
    "backgroundMask2 = cv2.multiply(background2/255,(255-mask2)/255)\n",
    "FinalImage = cv2.add(imageOut2,backgroundMask2)\n",
    "\n",
    "cv2.imshow('Image',FinalImage)\n",
    "cv2.waitKey(0)\n",
    "cv2.destroyAllWindows()"
   ]
  },
  {
   "cell_type": "markdown",
   "metadata": {},
   "source": [
    "Exercício 2.2 – Filtragem de média e mediana;\n"
   ]
  },
  {
   "cell_type": "code",
   "execution_count": 9,
   "metadata": {},
   "outputs": [],
   "source": [
    "blurImage = cv2.blur(imageFinal,(10,10))\n",
    "cv2.imshow('Image',blurImage)\n",
    "cv2.waitKey(0)\n",
    "cv2.destroyAllWindows()"
   ]
  },
  {
   "cell_type": "markdown",
   "metadata": {},
   "source": [
    "Exercicio 2.3 - Transformações geométricas"
   ]
  },
  {
   "cell_type": "code",
   "execution_count": 10,
   "metadata": {},
   "outputs": [],
   "source": [
    "#Rotação\n",
    "\n",
    "height, width = imageFinal.shape[:2]\n",
    "center = (width/2,height/2)\n",
    "\n",
    "getRotated = cv2.getRotationMatrix2D(center=center,angle=180,scale=1)\n",
    "\n",
    "rotatedImage = cv2.warpAffine(src=imageFinal,M=getRotated,dsize=(width,height))\n",
    "\n",
    "cv2.imshow(\"Rotated Image\", rotatedImage)\n",
    "cv2.waitKey(0)\n",
    "cv2.destroyAllWindows()"
   ]
  },
  {
   "cell_type": "code",
   "execution_count": 11,
   "metadata": {},
   "outputs": [],
   "source": [
    "#Translação\n",
    "\n",
    "M = np.float32([[1,0,47],[0,1,65]])\n",
    "translatedImage = cv2.warpAffine(src=imageFinal,M=M,dsize=(width,height))\n",
    "\n",
    "cv2.imshow(\"Translated Image\", translatedImage)\n",
    "cv2.waitKey(0)\n",
    "cv2.destroyAllWindows()"
   ]
  },
  {
   "cell_type": "markdown",
   "metadata": {},
   "source": [
    "Exercicio 3.1 - Histograma de uma imagem\n"
   ]
  },
  {
   "cell_type": "code",
   "execution_count": 37,
   "metadata": {},
   "outputs": [
    {
     "data": {
      "image/png": "[encoded data removed]",
      "text/plain": [
       "<Figure size 640x480 with 1 Axes>"
      ]
     },
     "metadata": {},
     "output_type": "display_data"
    }
   ],
   "source": [
    "# imageGray = cv2.cvtColor(imageFinal,cv2.COLOR_RGB2GRAY)\n",
    "brainImage = cv2.imread('imageDatabase/lily-lotus-flowers.jpg')\n",
    "brainGray = cv2.cvtColor(brainImage,cv2.COLOR_BGR2GRAY)\n",
    "hist0 = cv2.calcHist([brainImage],[0],None,[256],(0,255)) # channel 0 --> blue 1--> green 2--> red\n",
    "hist1 = cv2.calcHist([brainImage],[1],None,[256],(0,255))\n",
    "hist2 = cv2.calcHist([brainImage],[2],None,[256],(0,255))\n",
    "ind = np.arange(256)\n",
    "width = 0.35\n",
    "cv2.imshow('Original',brainImage)\n",
    "cv2.imshow('Gray',brainGray)\n",
    "cv2.waitKey(0)\n",
    "pl0 = plt.bar(ind,np.squeeze(hist0),width,color='b')\n",
    "pl1 = plt.bar(ind,np.squeeze(hist1),width,color='g')\n",
    "pl2 = plt.bar(ind,np.squeeze(hist2),width,color='r')\n",
    "plt.show()\n",
    "cv2.destroyAllWindows()\n",
    "\n",
    "# plt.figure(figsize=(10,5))\n",
    "# plt.subplot(1,3,1)\n",
    "# plt.imshow(pl0)\n",
    "# plt.axis('off')\n",
    "# plt.subplot(132)\n",
    "# plt.imshow(pl1)\n",
    "# plt.axis('off')\n",
    "# plt.subplot(133)\n",
    "# plt.imshow(pl2)\n",
    "# plt.axis('off')"
   ]
  }
 ],
 "metadata": {
  "kernelspec": {
   "display_name": "Python 3",
   "language": "python",
   "name": "python3"
  },
  "language_info": {
   "codemirror_mode": {
    "name": "ipython",
    "version": 3
   },
   "file_extension": ".py",
   "mimetype": "text/x-python",
   "name": "python",
   "nbconvert_exporter": "python",
   "pygments_lexer": "ipython3",
   "version": "3.12.7"
  }
 },
 "nbformat": 4,
 "nbformat_minor": 2
}
